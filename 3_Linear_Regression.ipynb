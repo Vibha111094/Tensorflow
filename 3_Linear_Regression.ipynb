{
  "nbformat": 4,
  "nbformat_minor": 0,
  "metadata": {
    "colab": {
      "name": "3-Linear_Regression.ipynb",
      "version": "0.3.2",
      "provenance": [],
      "include_colab_link": true
    },
    "kernelspec": {
      "name": "python3",
      "display_name": "Python 3"
    }
  },
  "cells": [
    {
      "cell_type": "markdown",
      "metadata": {
        "id": "view-in-github",
        "colab_type": "text"
      },
      "source": [
        "<a href=\"https://colab.research.google.com/github/amudha1/Tensorflow/blob/master/3_Linear_Regression.ipynb\" target=\"_parent\"><img src=\"https://colab.research.google.com/assets/colab-badge.svg\" alt=\"Open In Colab\"/></a>"
      ]
    },
    {
      "metadata": {
        "id": "3aod74D7xTlZ",
        "colab_type": "text"
      },
      "cell_type": "markdown",
      "source": [
        "Learning about the tf.estimator API"
      ]
    },
    {
      "metadata": {
        "id": "BCJKlxixzKSP",
        "colab_type": "text"
      },
      "cell_type": "markdown",
      "source": [
        "Estimator types\n",
        "1)tf.estimator.LinearClassifier - Constructs a linear Classification Model\n",
        "2)tf.estimator.LinearRegressor-Constructs a linear Regression Model\n",
        "3)tf.estimator.DNNClassifier - Constructs a neural Network classification Model\n",
        "4)tf.estimator.DNNRegressor - Constructs a neural Network regression Model"
      ]
    },
    {
      "metadata": {
        "id": "OaXsq-680_iQ",
        "colab_type": "text"
      },
      "cell_type": "markdown",
      "source": [
        "Following are the steps:\n",
        "       1)Define a list of feature columns\n",
        "       2)Create a estimator model\n",
        "       3)Create a data Input Function\n",
        "       4)Call Train Evaluate and Predict on the estimator object"
      ]
    },
    {
      "metadata": {
        "id": "enP9Qr_42zq3",
        "colab_type": "code",
        "colab": {}
      },
      "cell_type": "code",
      "source": [
        "import tensorflow as tf\n",
        "import numpy as np"
      ],
      "execution_count": 0,
      "outputs": []
    },
    {
      "metadata": {
        "id": "Yhw2F-9N3IrI",
        "colab_type": "code",
        "colab": {}
      },
      "cell_type": "code",
      "source": [
        "feat_cols = [tf.feature_column.numeric_column('x',shape=[1])]"
      ],
      "execution_count": 0,
      "outputs": []
    },
    {
      "metadata": {
        "id": "eaMP7KIg3ea5",
        "colab_type": "code",
        "colab": {
          "base_uri": "https://localhost:8080/",
          "height": 193
        },
        "outputId": "42b78872-32bc-4ca4-cf0b-7e079c0c25fc"
      },
      "cell_type": "code",
      "source": [
        "estimator  = tf.estimator.LinearRegressor(feature_columns=feat_cols)"
      ],
      "execution_count": 4,
      "outputs": [
        {
          "output_type": "stream",
          "text": [
            "INFO:tensorflow:Using default config.\n",
            "WARNING:tensorflow:Using temporary folder as model directory: /tmp/tmpc8hnn6wm\n",
            "INFO:tensorflow:Using config: {'_model_dir': '/tmp/tmpc8hnn6wm', '_tf_random_seed': None, '_save_summary_steps': 100, '_save_checkpoints_steps': None, '_save_checkpoints_secs': 600, '_session_config': allow_soft_placement: true\n",
            "graph_options {\n",
            "  rewrite_options {\n",
            "    meta_optimizer_iterations: ONE\n",
            "  }\n",
            "}\n",
            ", '_keep_checkpoint_max': 5, '_keep_checkpoint_every_n_hours': 10000, '_log_step_count_steps': 100, '_train_distribute': None, '_device_fn': None, '_protocol': None, '_eval_distribute': None, '_experimental_distribute': None, '_service': None, '_cluster_spec': <tensorflow.python.training.server_lib.ClusterSpec object at 0x7f7d10d1eb00>, '_task_type': 'worker', '_task_id': 0, '_global_id_in_cluster': 0, '_master': '', '_evaluation_master': '', '_is_chief': True, '_num_ps_replicas': 0, '_num_worker_replicas': 1}\n"
          ],
          "name": "stdout"
        }
      ]
    },
    {
      "metadata": {
        "id": "TrvOp2Ua4UBx",
        "colab_type": "code",
        "colab": {}
      },
      "cell_type": "code",
      "source": [
        "from sklearn.model_selection import train_test_split"
      ],
      "execution_count": 0,
      "outputs": []
    },
    {
      "metadata": {
        "id": "2F_pdLqQ4rcB",
        "colab_type": "code",
        "colab": {}
      },
      "cell_type": "code",
      "source": [
        "x_data = np.linspace(0,10,1000000)"
      ],
      "execution_count": 0,
      "outputs": []
    },
    {
      "metadata": {
        "id": "hX6iCxTX5A1k",
        "colab_type": "code",
        "colab": {}
      },
      "cell_type": "code",
      "source": [
        "noise = np.random.randn(len(x_data))"
      ],
      "execution_count": 0,
      "outputs": []
    },
    {
      "metadata": {
        "id": "eErrY7c_5U_i",
        "colab_type": "code",
        "colab": {}
      },
      "cell_type": "code",
      "source": [
        "y_true = (0.5 * x_data ) + 5 + noise"
      ],
      "execution_count": 0,
      "outputs": []
    },
    {
      "metadata": {
        "id": "MxJRIz_M5Y4T",
        "colab_type": "code",
        "colab": {}
      },
      "cell_type": "code",
      "source": [
        "x_train,x_eval,y_train,y_eval = train_test_split(x_data,y_true,test_size=0.3,random_state=101)"
      ],
      "execution_count": 0,
      "outputs": []
    },
    {
      "metadata": {
        "id": "yffV_bPm5_MB",
        "colab_type": "code",
        "colab": {
          "base_uri": "https://localhost:8080/",
          "height": 35
        },
        "outputId": "2b573dc1-a730-4c51-f376-1a1f9fc7ac0a"
      },
      "cell_type": "code",
      "source": [
        "print(x_train.shape)"
      ],
      "execution_count": 13,
      "outputs": [
        {
          "output_type": "stream",
          "text": [
            "(700000,)\n"
          ],
          "name": "stdout"
        }
      ]
    },
    {
      "metadata": {
        "id": "4wuLNCb86hgV",
        "colab_type": "code",
        "colab": {}
      },
      "cell_type": "code",
      "source": [
        "input_func = tf.estimator.inputs.numpy_input_fn({'x':x_train},y_train,batch_size=8,num_epochs=None,shuffle=True)"
      ],
      "execution_count": 0,
      "outputs": []
    },
    {
      "metadata": {
        "id": "7rgFu68W78sh",
        "colab_type": "code",
        "colab": {}
      },
      "cell_type": "code",
      "source": [
        "train_input_func = tf.estimator.inputs.numpy_input_fn({'x':x_train},y_train,batch_size=8,num_epochs=1000,shuffle=False)"
      ],
      "execution_count": 0,
      "outputs": []
    },
    {
      "metadata": {
        "id": "bqZS8TlI8Vw6",
        "colab_type": "code",
        "colab": {}
      },
      "cell_type": "code",
      "source": [
        "eval_input_func = tf.estimator.inputs.numpy_input_fn({'x':x_eval},y_eval,batch_size=8,num_epochs=1000,shuffle=False)"
      ],
      "execution_count": 0,
      "outputs": []
    },
    {
      "metadata": {
        "id": "1wZaqi-h8eQX",
        "colab_type": "code",
        "colab": {
          "base_uri": "https://localhost:8080/",
          "height": 800
        },
        "outputId": "e268b7d2-8eca-4fdd-bbbc-0035629fe841"
      },
      "cell_type": "code",
      "source": [
        "estimator.train(input_fn=input_func,steps = 1000)"
      ],
      "execution_count": 17,
      "outputs": [
        {
          "output_type": "stream",
          "text": [
            "WARNING:tensorflow:From /usr/local/lib/python3.6/dist-packages/tensorflow/python/framework/op_def_library.py:263: colocate_with (from tensorflow.python.framework.ops) is deprecated and will be removed in a future version.\n",
            "Instructions for updating:\n",
            "Colocations handled automatically by placer.\n",
            "WARNING:tensorflow:From /usr/local/lib/python3.6/dist-packages/tensorflow_estimator/python/estimator/inputs/queues/feeding_queue_runner.py:62: QueueRunner.__init__ (from tensorflow.python.training.queue_runner_impl) is deprecated and will be removed in a future version.\n",
            "Instructions for updating:\n",
            "To construct input pipelines, use the `tf.data` module.\n",
            "WARNING:tensorflow:From /usr/local/lib/python3.6/dist-packages/tensorflow_estimator/python/estimator/inputs/queues/feeding_functions.py:500: add_queue_runner (from tensorflow.python.training.queue_runner_impl) is deprecated and will be removed in a future version.\n",
            "Instructions for updating:\n",
            "To construct input pipelines, use the `tf.data` module.\n",
            "INFO:tensorflow:Calling model_fn.\n",
            "WARNING:tensorflow:From /usr/local/lib/python3.6/dist-packages/tensorflow/python/feature_column/feature_column_v2.py:2703: to_float (from tensorflow.python.ops.math_ops) is deprecated and will be removed in a future version.\n",
            "Instructions for updating:\n",
            "Use tf.cast instead.\n",
            "INFO:tensorflow:Done calling model_fn.\n",
            "INFO:tensorflow:Create CheckpointSaverHook.\n",
            "INFO:tensorflow:Graph was finalized.\n",
            "INFO:tensorflow:Running local_init_op.\n",
            "INFO:tensorflow:Done running local_init_op.\n",
            "WARNING:tensorflow:From /usr/local/lib/python3.6/dist-packages/tensorflow/python/training/monitored_session.py:809: start_queue_runners (from tensorflow.python.training.queue_runner_impl) is deprecated and will be removed in a future version.\n",
            "Instructions for updating:\n",
            "To construct input pipelines, use the `tf.data` module.\n",
            "INFO:tensorflow:Saving checkpoints for 0 into /tmp/tmpc8hnn6wm/model.ckpt.\n",
            "INFO:tensorflow:loss = 435.49628, step = 1\n",
            "INFO:tensorflow:global_step/sec: 702.468\n",
            "INFO:tensorflow:loss = 35.629875, step = 101 (0.147 sec)\n",
            "INFO:tensorflow:global_step/sec: 790.468\n",
            "INFO:tensorflow:loss = 12.20821, step = 201 (0.128 sec)\n",
            "INFO:tensorflow:global_step/sec: 834.07\n",
            "INFO:tensorflow:loss = 21.983723, step = 301 (0.118 sec)\n",
            "INFO:tensorflow:global_step/sec: 838.425\n",
            "INFO:tensorflow:loss = 6.445749, step = 401 (0.118 sec)\n",
            "INFO:tensorflow:global_step/sec: 844.096\n",
            "INFO:tensorflow:loss = 5.68274, step = 501 (0.122 sec)\n",
            "INFO:tensorflow:global_step/sec: 862.245\n",
            "INFO:tensorflow:loss = 12.812379, step = 601 (0.117 sec)\n",
            "INFO:tensorflow:global_step/sec: 714.494\n",
            "INFO:tensorflow:loss = 12.37929, step = 701 (0.137 sec)\n",
            "INFO:tensorflow:global_step/sec: 752.966\n",
            "INFO:tensorflow:loss = 7.275551, step = 801 (0.131 sec)\n",
            "INFO:tensorflow:global_step/sec: 878.679\n",
            "INFO:tensorflow:loss = 1.8466833, step = 901 (0.117 sec)\n",
            "INFO:tensorflow:Saving checkpoints for 1000 into /tmp/tmpc8hnn6wm/model.ckpt.\n",
            "INFO:tensorflow:Loss for final step: 7.615698.\n"
          ],
          "name": "stdout"
        },
        {
          "output_type": "execute_result",
          "data": {
            "text/plain": [
              "<tensorflow_estimator.python.estimator.canned.linear.LinearRegressor at 0x7f7d10d1e5c0>"
            ]
          },
          "metadata": {
            "tags": []
          },
          "execution_count": 17
        }
      ]
    },
    {
      "metadata": {
        "id": "W8zpEO8f9PGC",
        "colab_type": "code",
        "colab": {
          "base_uri": "https://localhost:8080/",
          "height": 384
        },
        "outputId": "cd66e96c-8da8-4408-d029-3765e7bb90fa"
      },
      "cell_type": "code",
      "source": [
        "train_metrics = estimator.evaluate(input_fn=train_input_func,steps=1000)"
      ],
      "execution_count": 19,
      "outputs": [
        {
          "output_type": "stream",
          "text": [
            "INFO:tensorflow:Calling model_fn.\n",
            "INFO:tensorflow:Done calling model_fn.\n",
            "INFO:tensorflow:Starting evaluation at 2019-03-03T19:12:51Z\n",
            "INFO:tensorflow:Graph was finalized.\n",
            "INFO:tensorflow:Restoring parameters from /tmp/tmpc8hnn6wm/model.ckpt-1000\n",
            "INFO:tensorflow:Running local_init_op.\n",
            "INFO:tensorflow:Done running local_init_op.\n",
            "INFO:tensorflow:Evaluation [100/1000]\n",
            "INFO:tensorflow:Evaluation [200/1000]\n",
            "INFO:tensorflow:Evaluation [300/1000]\n",
            "INFO:tensorflow:Evaluation [400/1000]\n",
            "INFO:tensorflow:Evaluation [500/1000]\n",
            "INFO:tensorflow:Evaluation [600/1000]\n",
            "INFO:tensorflow:Evaluation [700/1000]\n",
            "INFO:tensorflow:Evaluation [800/1000]\n",
            "INFO:tensorflow:Evaluation [900/1000]\n",
            "INFO:tensorflow:Evaluation [1000/1000]\n",
            "INFO:tensorflow:Finished evaluation at 2019-03-03-19:12:52\n",
            "INFO:tensorflow:Saving dict for global step 1000: average_loss = 1.0901457, global_step = 1000, label/mean = 7.490892, loss = 8.721166, prediction/mean = 7.4732018\n",
            "INFO:tensorflow:Saving 'checkpoint_path' summary for global step 1000: /tmp/tmpc8hnn6wm/model.ckpt-1000\n"
          ],
          "name": "stdout"
        }
      ]
    },
    {
      "metadata": {
        "id": "jhL46sy1-UfV",
        "colab_type": "code",
        "colab": {
          "base_uri": "https://localhost:8080/",
          "height": 384
        },
        "outputId": "422c7c61-e12a-43af-e3ed-3a5b9612e619"
      },
      "cell_type": "code",
      "source": [
        "eval_metrics = estimator.evaluate(input_fn=eval_input_func,steps=1000)"
      ],
      "execution_count": 20,
      "outputs": [
        {
          "output_type": "stream",
          "text": [
            "INFO:tensorflow:Calling model_fn.\n",
            "INFO:tensorflow:Done calling model_fn.\n",
            "INFO:tensorflow:Starting evaluation at 2019-03-03T19:13:26Z\n",
            "INFO:tensorflow:Graph was finalized.\n",
            "INFO:tensorflow:Restoring parameters from /tmp/tmpc8hnn6wm/model.ckpt-1000\n",
            "INFO:tensorflow:Running local_init_op.\n",
            "INFO:tensorflow:Done running local_init_op.\n",
            "INFO:tensorflow:Evaluation [100/1000]\n",
            "INFO:tensorflow:Evaluation [200/1000]\n",
            "INFO:tensorflow:Evaluation [300/1000]\n",
            "INFO:tensorflow:Evaluation [400/1000]\n",
            "INFO:tensorflow:Evaluation [500/1000]\n",
            "INFO:tensorflow:Evaluation [600/1000]\n",
            "INFO:tensorflow:Evaluation [700/1000]\n",
            "INFO:tensorflow:Evaluation [800/1000]\n",
            "INFO:tensorflow:Evaluation [900/1000]\n",
            "INFO:tensorflow:Evaluation [1000/1000]\n",
            "INFO:tensorflow:Finished evaluation at 2019-03-03-19:13:27\n",
            "INFO:tensorflow:Saving dict for global step 1000: average_loss = 1.0917209, global_step = 1000, label/mean = 7.4948783, loss = 8.7337675, prediction/mean = 7.4513273\n",
            "INFO:tensorflow:Saving 'checkpoint_path' summary for global step 1000: /tmp/tmpc8hnn6wm/model.ckpt-1000\n"
          ],
          "name": "stdout"
        }
      ]
    },
    {
      "metadata": {
        "id": "r1irsJZb-8uk",
        "colab_type": "code",
        "colab": {
          "base_uri": "https://localhost:8080/",
          "height": 35
        },
        "outputId": "e44eb50e-e731-4657-bab7-1e59a4dd5a8a"
      },
      "cell_type": "code",
      "source": [
        "print(train_metrics)"
      ],
      "execution_count": 21,
      "outputs": [
        {
          "output_type": "stream",
          "text": [
            "{'average_loss': 1.0901457, 'label/mean': 7.490892, 'loss': 8.721166, 'prediction/mean': 7.4732018, 'global_step': 1000}\n"
          ],
          "name": "stdout"
        }
      ]
    },
    {
      "metadata": {
        "id": "OiAwZg8i_Bky",
        "colab_type": "code",
        "colab": {
          "base_uri": "https://localhost:8080/",
          "height": 35
        },
        "outputId": "24d2069c-779b-4876-a51a-9f9553e5bb82"
      },
      "cell_type": "code",
      "source": [
        "print(eval_metrics)"
      ],
      "execution_count": 22,
      "outputs": [
        {
          "output_type": "stream",
          "text": [
            "{'average_loss': 1.0917209, 'label/mean': 7.4948783, 'loss': 8.7337675, 'prediction/mean': 7.4513273, 'global_step': 1000}\n"
          ],
          "name": "stdout"
        }
      ]
    },
    {
      "metadata": {
        "id": "jHPQWuSt_8eZ",
        "colab_type": "code",
        "colab": {}
      },
      "cell_type": "code",
      "source": [
        "brand_new_data = np.linspace(0,10,10)"
      ],
      "execution_count": 0,
      "outputs": []
    },
    {
      "metadata": {
        "id": "4kMIvij8AHPM",
        "colab_type": "code",
        "colab": {}
      },
      "cell_type": "code",
      "source": [
        "input_fn_predict =tf.estimator.inputs.numpy_input_fn({'x':brand_new_data},shuffle=False)"
      ],
      "execution_count": 0,
      "outputs": []
    },
    {
      "metadata": {
        "id": "HaQo7uPvCRW6",
        "colab_type": "code",
        "colab": {
          "base_uri": "https://localhost:8080/",
          "height": 295
        },
        "outputId": "20eef36d-5a3c-45a5-9681-faddb50dfbc0"
      },
      "cell_type": "code",
      "source": [
        "list(estimator.predict(input_fn=input_fn_predict))"
      ],
      "execution_count": 27,
      "outputs": [
        {
          "output_type": "stream",
          "text": [
            "INFO:tensorflow:Calling model_fn.\n",
            "INFO:tensorflow:Done calling model_fn.\n",
            "INFO:tensorflow:Graph was finalized.\n",
            "INFO:tensorflow:Restoring parameters from /tmp/tmpc8hnn6wm/model.ckpt-1000\n",
            "INFO:tensorflow:Running local_init_op.\n",
            "INFO:tensorflow:Done running local_init_op.\n"
          ],
          "name": "stdout"
        },
        {
          "output_type": "execute_result",
          "data": {
            "text/plain": [
              "[{'predictions': array([4.4448376], dtype=float32)},\n",
              " {'predictions': array([5.117505], dtype=float32)},\n",
              " {'predictions': array([5.7901726], dtype=float32)},\n",
              " {'predictions': array([6.4628396], dtype=float32)},\n",
              " {'predictions': array([7.135507], dtype=float32)},\n",
              " {'predictions': array([7.808174], dtype=float32)},\n",
              " {'predictions': array([8.480842], dtype=float32)},\n",
              " {'predictions': array([9.153509], dtype=float32)},\n",
              " {'predictions': array([9.826177], dtype=float32)},\n",
              " {'predictions': array([10.498844], dtype=float32)}]"
            ]
          },
          "metadata": {
            "tags": []
          },
          "execution_count": 27
        }
      ]
    }
  ]
}