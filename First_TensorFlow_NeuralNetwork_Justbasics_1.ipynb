{
  "nbformat": 4,
  "nbformat_minor": 0,
  "metadata": {
    "colab": {
      "name": "First_TensorFlow_NeuralNetwork_Justbasics-1.ipynb",
      "version": "0.3.2",
      "provenance": [],
      "include_colab_link": true
    },
    "kernelspec": {
      "name": "python3",
      "display_name": "Python 3"
    }
  },
  "cells": [
    {
      "cell_type": "markdown",
      "metadata": {
        "id": "view-in-github",
        "colab_type": "text"
      },
      "source": [
        "<a href=\"https://colab.research.google.com/github/amudha1/Tensorflow/blob/master/First_TensorFlow_NeuralNetwork_Justbasics_1.ipynb\" target=\"_parent\"><img src=\"https://colab.research.google.com/assets/colab-badge.svg\" alt=\"Open In Colab\"/></a>"
      ]
    },
    {
      "metadata": {
        "id": "iDsHijmtFk2F",
        "colab_type": "text"
      },
      "cell_type": "markdown",
      "source": [
        "Neuron that produces a simple linear fit to a 2D data"
      ]
    },
    {
      "metadata": {
        "id": "GmH7QYmCFuAR",
        "colab_type": "code",
        "colab": {}
      },
      "cell_type": "code",
      "source": [
        "Steps:\n",
        "    1)Build a graph\n",
        "    2)Initiate the session\n",
        "    3)Feed the data in and get the output\n",
        "    "
      ],
      "execution_count": 0,
      "outputs": []
    },
    {
      "metadata": {
        "id": "gDTZX9YQVmoa",
        "colab_type": "text"
      },
      "cell_type": "markdown",
      "source": [
        "-See the graph and constuct it\n",
        "-Add the cost function and train \n",
        "-Feed the data and get the output"
      ]
    },
    {
      "metadata": {
        "id": "0fvZfGjUWHHx",
        "colab_type": "code",
        "colab": {}
      },
      "cell_type": "code",
      "source": [
        "import numpy as np\n",
        "import tensorflow as tf"
      ],
      "execution_count": 0,
      "outputs": []
    },
    {
      "metadata": {
        "id": "2DVUJrVcWSBL",
        "colab_type": "code",
        "colab": {}
      },
      "cell_type": "code",
      "source": [
        "np.random.seed(101)\n",
        "tf.set_random_seed(101)"
      ],
      "execution_count": 0,
      "outputs": []
    },
    {
      "metadata": {
        "id": "4VR1jX15XcXv",
        "colab_type": "code",
        "colab": {
          "base_uri": "https://localhost:8080/",
          "height": 104
        },
        "outputId": "f7a6a787-1183-4f7c-a420-785664925c43"
      },
      "cell_type": "code",
      "source": [
        "rand_a = np.random.uniform(0,100,(5,5))\n",
        "rand_a"
      ],
      "execution_count": 10,
      "outputs": [
        {
          "output_type": "execute_result",
          "data": {
            "text/plain": [
              "array([[99.43179012, 52.06653967, 57.87895355, 73.48190583, 54.19617722],\n",
              "       [91.31535577, 80.7920151 , 40.29978307, 35.72243428, 95.28767147],\n",
              "       [34.36315779, 86.50998163, 83.02777122, 53.81614492, 92.24693726],\n",
              "       [ 9.71464798, 10.28474932, 70.15072957, 89.04798691, 15.95603009],\n",
              "       [27.55725449, 67.24915297, 16.4303124 , 70.13711366, 48.76352222]])"
            ]
          },
          "metadata": {
            "tags": []
          },
          "execution_count": 10
        }
      ]
    },
    {
      "metadata": {
        "id": "Gi8P2oTQYveA",
        "colab_type": "code",
        "colab": {
          "base_uri": "https://localhost:8080/",
          "height": 104
        },
        "outputId": "2bd1869a-5e06-499b-9f48-3a9a7edb5f84"
      },
      "cell_type": "code",
      "source": [
        "rand_b = np.random.uniform(0,100,(5,1))\n",
        "rand_b"
      ],
      "execution_count": 25,
      "outputs": [
        {
          "output_type": "execute_result",
          "data": {
            "text/plain": [
              "array([[36.22733551],\n",
              "       [35.65020139],\n",
              "       [19.52516005],\n",
              "       [98.73127505],\n",
              "       [ 2.33054924]])"
            ]
          },
          "metadata": {
            "tags": []
          },
          "execution_count": 25
        }
      ]
    },
    {
      "metadata": {
        "id": "V01ECutcZRwB",
        "colab_type": "code",
        "colab": {}
      },
      "cell_type": "code",
      "source": [
        "a = tf.placeholder(tf.float32)"
      ],
      "execution_count": 0,
      "outputs": []
    },
    {
      "metadata": {
        "id": "7MRNjwgcan_V",
        "colab_type": "code",
        "colab": {}
      },
      "cell_type": "code",
      "source": [
        "b = tf.placeholder(tf.float32)"
      ],
      "execution_count": 0,
      "outputs": []
    },
    {
      "metadata": {
        "id": "G412A6GTbrQR",
        "colab_type": "code",
        "colab": {}
      },
      "cell_type": "code",
      "source": [
        "add_op = a + b"
      ],
      "execution_count": 0,
      "outputs": []
    },
    {
      "metadata": {
        "id": "uXO9W_8zb0-D",
        "colab_type": "code",
        "colab": {}
      },
      "cell_type": "code",
      "source": [
        "mul_op = a * b"
      ],
      "execution_count": 0,
      "outputs": []
    },
    {
      "metadata": {
        "id": "vzDxOB5bb71C",
        "colab_type": "code",
        "colab": {
          "base_uri": "https://localhost:8080/",
          "height": 35
        },
        "outputId": "9011625f-931a-49b5-be60-be32f7e9fbc7"
      },
      "cell_type": "code",
      "source": [
        "with tf.Session() as sess:\n",
        "    result = sess.run(add_op,feed_dict={a:10,b:20})\n",
        "    print(result)"
      ],
      "execution_count": 19,
      "outputs": [
        {
          "output_type": "stream",
          "text": [
            "30.0\n"
          ],
          "name": "stdout"
        }
      ]
    },
    {
      "metadata": {
        "id": "_0DixV5hdE6T",
        "colab_type": "code",
        "colab": {
          "base_uri": "https://localhost:8080/",
          "height": 104
        },
        "outputId": "81829ee9-b2f7-4abb-fef3-3e46a823ce90"
      },
      "cell_type": "code",
      "source": [
        "with tf.Session() as sess:\n",
        "    print(sess.run(add_op,feed_dict={a:rand_a,b:rand_b}))"
      ],
      "execution_count": 26,
      "outputs": [
        {
          "output_type": "stream",
          "text": [
            "[[135.65913   88.29388   94.10629  109.70924   90.423515]\n",
            " [126.96555  116.442215  75.94998   71.372635 130.93787 ]\n",
            " [ 53.88832  106.03514  102.55293   73.3413   111.7721  ]\n",
            " [108.44592  109.01603  168.882    187.77927  114.68731 ]\n",
            " [ 29.887804  69.579704  18.760862  72.46767   51.09407 ]]\n"
          ],
          "name": "stdout"
        }
      ]
    },
    {
      "metadata": {
        "id": "lDodKH9Fdx6-",
        "colab_type": "code",
        "colab": {
          "base_uri": "https://localhost:8080/",
          "height": 104
        },
        "outputId": "d244f02a-3a83-4034-c51e-96f8646cea63"
      },
      "cell_type": "code",
      "source": [
        "with tf.Session() as sess:\n",
        "    print(sess.run(mul_op,feed_dict={a:rand_a,b:rand_b}))"
      ],
      "execution_count": 27,
      "outputs": [
        {
          "output_type": "stream",
          "text": [
            "[[3602.1492   1886.232    2096.8003   2662.0537   1963.3832  ]\n",
            " [3255.4106   2880.2515   1436.6953   1273.512    3397.0247  ]\n",
            " [ 670.94617  1689.1212   1621.1305   1050.7688   1801.1362  ]\n",
            " [ 959.13965  1015.4264   6926.071    8791.821    1575.3593  ]\n",
            " [  64.22354   156.72746    38.291653  163.45801   113.64579 ]]\n"
          ],
          "name": "stdout"
        }
      ]
    },
    {
      "metadata": {
        "id": "72haZjwfe2a_",
        "colab_type": "text"
      },
      "cell_type": "markdown",
      "source": [
        "Next -  **Regression Example:**"
      ]
    }
  ]
}