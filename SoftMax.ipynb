{
  "nbformat": 4,
  "nbformat_minor": 0,
  "metadata": {
    "colab": {
      "name": "SoftMax.ipynb",
      "version": "0.3.2",
      "provenance": [],
      "include_colab_link": true
    },
    "kernelspec": {
      "name": "python3",
      "display_name": "Python 3"
    }
  },
  "cells": [
    {
      "cell_type": "markdown",
      "metadata": {
        "id": "view-in-github",
        "colab_type": "text"
      },
      "source": [
        "<a href=\"https://colab.research.google.com/github/Vibha111094/Tensorflow/blob/master/SoftMax.ipynb\" target=\"_parent\"><img src=\"https://colab.research.google.com/assets/colab-badge.svg\" alt=\"Open In Colab\"/></a>"
      ]
    },
    {
      "cell_type": "code",
      "metadata": {
        "id": "4eKKeCaI0DMX",
        "colab_type": "code",
        "colab": {}
      },
      "source": [
        "logits = [2.0,1.0,0.1]\n",
        "import numpy as np\n",
        "exps = [np.exp(i) for i in logits]"
      ],
      "execution_count": 0,
      "outputs": []
    },
    {
      "cell_type": "code",
      "metadata": {
        "id": "jX7mQM-y3mTK",
        "colab_type": "code",
        "colab": {
          "base_uri": "https://localhost:8080/",
          "height": 33
        },
        "outputId": "cada930d-2aa0-4155-91a2-b571302695b4"
      },
      "source": [
        "print(exps)"
      ],
      "execution_count": 7,
      "outputs": [
        {
          "output_type": "stream",
          "text": [
            "[7.38905609893065, 2.718281828459045, 1.1051709180756477]\n"
          ],
          "name": "stdout"
        }
      ]
    },
    {
      "cell_type": "code",
      "metadata": {
        "id": "M_YwsDCi4A67",
        "colab_type": "code",
        "colab": {}
      },
      "source": [
        "sum_of_exps = sum(exps)"
      ],
      "execution_count": 0,
      "outputs": []
    },
    {
      "cell_type": "code",
      "metadata": {
        "id": "Mfgkf0Fs4KDZ",
        "colab_type": "code",
        "colab": {
          "base_uri": "https://localhost:8080/",
          "height": 33
        },
        "outputId": "03e5a88a-81c7-4e4c-81d1-129b963a4b09"
      },
      "source": [
        "print(sum_of_exps)"
      ],
      "execution_count": 9,
      "outputs": [
        {
          "output_type": "stream",
          "text": [
            "11.212508845465344\n"
          ],
          "name": "stdout"
        }
      ]
    },
    {
      "cell_type": "code",
      "metadata": {
        "id": "WGoRksyC4N_V",
        "colab_type": "code",
        "colab": {}
      },
      "source": [
        "softmax = [j/sum_of_exps for j in exps]"
      ],
      "execution_count": 0,
      "outputs": []
    },
    {
      "cell_type": "code",
      "metadata": {
        "id": "6o6WDHun5oMa",
        "colab_type": "code",
        "colab": {
          "base_uri": "https://localhost:8080/",
          "height": 33
        },
        "outputId": "6e8324f7-a58a-4ab8-e500-cf8009e0400c"
      },
      "source": [
        "print(softmax)"
      ],
      "execution_count": 11,
      "outputs": [
        {
          "output_type": "stream",
          "text": [
            "[0.6590011388859679, 0.2424329707047139, 0.09856589040931818]\n"
          ],
          "name": "stdout"
        }
      ]
    },
    {
      "cell_type": "code",
      "metadata": {
        "id": "Bt5rlcmT5-9t",
        "colab_type": "code",
        "colab": {
          "base_uri": "https://localhost:8080/",
          "height": 33
        },
        "outputId": "179ed3bf-96ff-484c-a4c4-ed9bf01b1786"
      },
      "source": [
        "sum(softmax)"
      ],
      "execution_count": 12,
      "outputs": [
        {
          "output_type": "execute_result",
          "data": {
            "text/plain": [
              "1.0"
            ]
          },
          "metadata": {
            "tags": []
          },
          "execution_count": 12
        }
      ]
    },
    {
      "cell_type": "code",
      "metadata": {
        "id": "3lt_KHwk7EWs",
        "colab_type": "code",
        "colab": {}
      },
      "source": [
        "rounded_softmax = [round(x,1) for x in softmax]\n"
      ],
      "execution_count": 0,
      "outputs": []
    },
    {
      "cell_type": "code",
      "metadata": {
        "id": "TgV_MgO76oRF",
        "colab_type": "code",
        "colab": {
          "base_uri": "https://localhost:8080/",
          "height": 33
        },
        "outputId": "65189f1e-142b-4580-d51c-bff19323a7d8"
      },
      "source": [
        "print(rounded_softmax)"
      ],
      "execution_count": 14,
      "outputs": [
        {
          "output_type": "stream",
          "text": [
            "[0.7, 0.2, 0.1]\n"
          ],
          "name": "stdout"
        }
      ]
    }
  ]
}