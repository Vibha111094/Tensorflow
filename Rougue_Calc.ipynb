{
  "nbformat": 4,
  "nbformat_minor": 0,
  "metadata": {
    "colab": {
      "name": "Rougue_Calc.ipynb",
      "version": "0.3.2",
      "provenance": [],
      "include_colab_link": true
    },
    "kernelspec": {
      "name": "python3",
      "display_name": "Python 3"
    }
  },
  "cells": [
    {
      "cell_type": "markdown",
      "metadata": {
        "id": "view-in-github",
        "colab_type": "text"
      },
      "source": [
        "<a href=\"https://colab.research.google.com/github/amudha1/Tensorflow/blob/master/Rougue_Calc.ipynb\" target=\"_parent\"><img src=\"https://colab.research.google.com/assets/colab-badge.svg\" alt=\"Open In Colab\"/></a>"
      ]
    },
    {
      "metadata": {
        "id": "rcXDLlq-yHnO",
        "colab_type": "code",
        "colab": {
          "base_uri": "https://localhost:8080/",
          "height": 107
        },
        "outputId": "3aee1b2a-4559-420d-c01d-050ace1b583f"
      },
      "cell_type": "code",
      "source": [
        "!pip install rouge"
      ],
      "execution_count": 1,
      "outputs": [
        {
          "output_type": "stream",
          "text": [
            "Collecting rouge\n",
            "  Downloading https://files.pythonhosted.org/packages/8f/89/af359c22e1d858e0299d4cc9219f36b504817c9797acad23081247867845/rouge-0.3.1-py3-none-any.whl\n",
            "Installing collected packages: rouge\n",
            "Successfully installed rouge-0.3.1\n"
          ],
          "name": "stdout"
        }
      ]
    },
    {
      "metadata": {
        "id": "9FlDmgGB0Jhw",
        "colab_type": "code",
        "colab": {}
      },
      "cell_type": "code",
      "source": [
        "import json\n",
        "from rouge import Rouge"
      ],
      "execution_count": 0,
      "outputs": []
    },
    {
      "metadata": {
        "id": "sOnnnbYIycr3",
        "colab_type": "code",
        "colab": {
          "base_uri": "https://localhost:8080/",
          "height": 55
        },
        "outputId": "628338ac-8edf-4e7c-eee8-879bbd947425"
      },
      "cell_type": "code",
      "source": [
        "reference = \"forensic experts must carry out dna tests on body parts to see who they belong to new the judge has until sunday evening to decide whether to press formal charges interior minister says police have accused the train driver of reckless homicide at least people died in the train crash near santiago de compostela in galicia\" \n",
        "hypothesis  =  \"two people were killed in a driver killed when their teams were found dead at least people were arrested in a catholic police say at least people were the scene of the man and an investigation says it was a man were the man and an investigation says man and an investigation says man and an investigation says man and an investigation says man were the man and an investigation says it was the man were the accident says it says man and an investigation says man and an investigation says man and an investigation says man were the accident says man were the man and an investigation says man were the man were the man were the man were the man were the man were the man were the man were the man and an investigation says there were the man were the man were the man were the man were the man were arrested earlier accused of the islander of the man were killed in the man were killed in the man were killed in the man were killed in the man were killed in the man were injured of the man were killed in the accident says there was a man were killed in the man were killed in the man were injured in the man were killed in the man were killed in the man were injured in the man were killed in the man were killed in the man were injured during least people were killed in the man were killed in the man were killed in the man were killed in the man were killed in the man were killed in the man were killed in the man and an investigation says there was a catholic official says man and the islander of the islander of the islander of the islander of the man and the man and the islander of the man and the islander of the man and the islander of the man who was a man were killed in the man were killed in the man were killed in the man and the man and the man and the islander of the islander of the islander of the man were killed in the man were killed in the man were the man were the man were the islander killed in the islander killed in the man were killed in the\"\n",
        "rouge = Rouge()\n",
        "scores = rouge.get_scores(hypothesis, reference)\n",
        "print(scores)"
      ],
      "execution_count": 5,
      "outputs": [
        {
          "output_type": "stream",
          "text": [
            "[{'rouge-1': {'f': 0.2558139485857221, 'p': 0.2972972972972973, 'r': 0.22448979591836735}, 'rouge-2': {'f': 0.05217390806200426, 'p': 0.04918032786885246, 'r': 0.05555555555555555}, 'rouge-l': {'f': 0.15680146403469578, 'p': 0.1891891891891892, 'r': 0.14285714285714285}}]\n"
          ],
          "name": "stdout"
        }
      ]
    }
  ]
}