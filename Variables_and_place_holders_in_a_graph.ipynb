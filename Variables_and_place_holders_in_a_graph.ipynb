{
  "nbformat": 4,
  "nbformat_minor": 0,
  "metadata": {
    "colab": {
      "name": "Variables_and_place_holders_in_a_graph.ipynb",
      "version": "0.3.2",
      "provenance": [],
      "include_colab_link": true
    },
    "kernelspec": {
      "name": "python3",
      "display_name": "Python 3"
    }
  },
  "cells": [
    {
      "cell_type": "markdown",
      "metadata": {
        "id": "view-in-github",
        "colab_type": "text"
      },
      "source": [
        "<a href=\"https://colab.research.google.com/github/amudha1/Tensorflow/blob/master/Variables_and_place_holders_in_a_graph.ipynb\" target=\"_parent\"><img src=\"https://colab.research.google.com/assets/colab-badge.svg\" alt=\"Open In Colab\"/></a>"
      ]
    },
    {
      "metadata": {
        "id": "0a3mVzxiwOkf",
        "colab_type": "text"
      },
      "cell_type": "markdown",
      "source": [
        "There are 2 main types of tensor objects in a graph\n",
        "1)Variables\n",
        "2)Place holders"
      ]
    },
    {
      "metadata": {
        "id": "Hw3XELaEwZ2Q",
        "colab_type": "text"
      },
      "cell_type": "markdown",
      "source": [
        "Variable properties:\n",
        "1)Variables can hold the values weights and biases thought the session\n",
        "2)Variables need to be initialized"
      ]
    },
    {
      "metadata": {
        "id": "f-aOxSzpxYiy",
        "colab_type": "code",
        "colab": {}
      },
      "cell_type": "code",
      "source": [
        "PlaceHolders: These are initially empty and are used to feed in the training examples.\n",
        "However they do need a expected data type and optional shape argument"
      ],
      "execution_count": 0,
      "outputs": []
    },
    {
      "metadata": {
        "id": "wnJBIVosyeV5",
        "colab_type": "code",
        "colab": {}
      },
      "cell_type": "code",
      "source": [
        "import tensorflow as tf"
      ],
      "execution_count": 0,
      "outputs": []
    },
    {
      "metadata": {
        "id": "RN6RFRsEynF5",
        "colab_type": "code",
        "colab": {}
      },
      "cell_type": "code",
      "source": [
        "my_tensor = tf.random_uniform((4,4),0,1)\n",
        "    "
      ],
      "execution_count": 0,
      "outputs": []
    },
    {
      "metadata": {
        "id": "F_R1LzFBzOcJ",
        "colab_type": "code",
        "colab": {
          "base_uri": "https://localhost:8080/",
          "height": 35
        },
        "outputId": "d64aa9e8-57ec-4496-9a75-822835ad70e8"
      },
      "cell_type": "code",
      "source": [
        "my_tensor"
      ],
      "execution_count": 11,
      "outputs": [
        {
          "output_type": "execute_result",
          "data": {
            "text/plain": [
              "<tf.Tensor 'random_uniform:0' shape=(4, 4) dtype=float32>"
            ]
          },
          "metadata": {
            "tags": []
          },
          "execution_count": 11
        }
      ]
    },
    {
      "metadata": {
        "id": "dee3LONtz0o3",
        "colab_type": "code",
        "colab": {
          "base_uri": "https://localhost:8080/",
          "height": 87
        },
        "outputId": "29541d36-4ac9-40d9-9c82-8c3ca9f43031"
      },
      "cell_type": "code",
      "source": [
        "with tf.Session() as sess:\n",
        "    sess.run(tf.global_variables_initializer())\n",
        "    print(sess.run(my_tensor))"
      ],
      "execution_count": 23,
      "outputs": [
        {
          "output_type": "stream",
          "text": [
            "[[0.5970912  0.9377837  0.36999583 0.63332474]\n",
            " [0.42932308 0.7401483  0.6349038  0.8361764 ]\n",
            " [0.91160905 0.7964659  0.33479953 0.79890966]\n",
            " [0.47559583 0.23685098 0.35872912 0.83728755]]\n"
          ],
          "name": "stdout"
        }
      ]
    },
    {
      "metadata": {
        "id": "Xx8oTz2C_Kpx",
        "colab_type": "code",
        "colab": {}
      },
      "cell_type": "code",
      "source": [
        "sess  = tf.InteractiveSession()"
      ],
      "execution_count": 0,
      "outputs": []
    },
    {
      "metadata": {
        "id": "rSB3kzd7Ayrl",
        "colab_type": "code",
        "colab": {}
      },
      "cell_type": "code",
      "source": [
        "my_var = tf.Variable(my_tensor)"
      ],
      "execution_count": 0,
      "outputs": []
    },
    {
      "metadata": {
        "id": "S9DkU91EDKft",
        "colab_type": "code",
        "colab": {}
      },
      "cell_type": "code",
      "source": [
        "sess.run(tf.global_variables_initializer())"
      ],
      "execution_count": 0,
      "outputs": []
    },
    {
      "metadata": {
        "id": "-aAzI8NRB7s9",
        "colab_type": "code",
        "colab": {
          "base_uri": "https://localhost:8080/",
          "height": 87
        },
        "outputId": "acdced78-c4b2-4420-eda1-1eddca79d69a"
      },
      "cell_type": "code",
      "source": [
        "sess.run(my_var)"
      ],
      "execution_count": 32,
      "outputs": [
        {
          "output_type": "execute_result",
          "data": {
            "text/plain": [
              "array([[0.27061868, 0.74285984, 0.69727993, 0.01922464],\n",
              "       [0.5809337 , 0.49860907, 0.10335433, 0.7538544 ],\n",
              "       [0.06685483, 0.15883219, 0.53972197, 0.7523658 ],\n",
              "       [0.12828267, 0.9851067 , 0.6240957 , 0.97321725]], dtype=float32)"
            ]
          },
          "metadata": {
            "tags": []
          },
          "execution_count": 32
        }
      ]
    },
    {
      "metadata": {
        "id": "qODizBxxDS6e",
        "colab_type": "code",
        "colab": {}
      },
      "cell_type": "code",
      "source": [
        "ph = tf.placeholder(tf.float32,shape=(None,5))"
      ],
      "execution_count": 0,
      "outputs": []
    }
  ]
}