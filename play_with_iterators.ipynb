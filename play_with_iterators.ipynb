{
  "nbformat": 4,
  "nbformat_minor": 0,
  "metadata": {
    "colab": {
      "name": "play_with_iterators.ipynb",
      "version": "0.3.2",
      "provenance": [],
      "include_colab_link": true
    },
    "kernelspec": {
      "name": "python3",
      "display_name": "Python 3"
    }
  },
  "cells": [
    {
      "cell_type": "markdown",
      "metadata": {
        "id": "view-in-github",
        "colab_type": "text"
      },
      "source": [
        "<a href=\"https://colab.research.google.com/github/amudha1/Tensorflow/blob/master/play_with_iterators.ipynb\" target=\"_parent\"><img src=\"https://colab.research.google.com/assets/colab-badge.svg\" alt=\"Open In Colab\"/></a>"
      ]
    },
    {
      "metadata": {
        "id": "kbrOpMVYLU7G",
        "colab_type": "code",
        "colab": {}
      },
      "cell_type": "code",
      "source": [
        "import tensorflow as tf\n",
        "max_value = tf.placeholder(tf.int64, shape=[])\n",
        "dataset = tf.data.Dataset.range(max_value)\n",
        "iterator = dataset.make_initializable_iterator()\n",
        "next_element = iterator.get_next()\n",
        "\n",
        "sess = tf.InteractiveSession()\n",
        "# Initialize an iterator over a dataset with 10 elements.\n",
        "\n"
      ],
      "execution_count": 0,
      "outputs": []
    },
    {
      "metadata": {
        "id": "OsU2sS_VL9D1",
        "colab_type": "code",
        "colab": {}
      },
      "cell_type": "code",
      "source": [
        "sess.run(iterator.initializer, feed_dict={max_value: 10})\n",
        "for i in range(10):\n",
        "  value = sess.run(next_element)\n",
        "  print(value)\n",
        "    "
      ],
      "execution_count": 0,
      "outputs": []
    }
  ]
}